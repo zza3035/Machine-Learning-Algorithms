{
 "cells": [
  {
   "cell_type": "markdown",
   "id": "13181f88",
   "metadata": {},
   "source": [
    "# K-Means Clustering Algorithm"
   ]
  },
  {
   "cell_type": "markdown",
   "id": "3fc4185b",
   "metadata": {},
   "source": [
    "TASK：In this assignment, we cluster stocks in the stock market by using the k-means algorithm. In particular, you are provided with a dataset (available on the moodle website) which specifies for each of 30 stocks the percentage change in price of that stock in each given week, for a total of 25 weeks. In our dataset, some stocks might deal with technology, some other with oil, etc. We will try to group together stocks with similar price trends in the stock market. In other words, in a same cluster we would like to have stocks whose price changes by similar amounts every week. This can be used for coming up with successful investment policies. We will see that stocks related to the same market (e.g. technology) have often “similar” price trends. For this assignment, we recommend k = 8."
   ]
  },
  {
   "cell_type": "markdown",
   "id": "1105c168",
   "metadata": {},
   "source": [
    "## This solution employ scikit-learn library.\n",
    "Scikit-Learn, also known as sklearn is a python library to implement machine learning models and statistical modelling. Through scikit-learn, we can implement various machine learning models for regression, classification, clustering, and statistical tools for analyzing these models. (from Google)"
   ]
  },
  {
   "cell_type": "code",
   "execution_count": 1,
   "id": "ab515ca5",
   "metadata": {},
   "outputs": [],
   "source": [
    "from sklearn.cluster import KMeans"
   ]
  },
  {
   "cell_type": "markdown",
   "id": "90847fe9",
   "metadata": {},
   "source": [
    "learn more about K-Means parameters\n",
    "https://scikit-learn.org/stable/modules/generated/sklearn.cluster.KMeans.html"
   ]
  },
  {
   "cell_type": "markdown",
   "id": "b31d0e3a",
   "metadata": {},
   "source": [
    "### Q1: You should run the k-means algorithm on the stock data, while using init=’random’ and the default values for the other parameters. Compute the sum of squared errors (SSE) for the clustering you obtained and include it in your report."
   ]
  },
  {
   "cell_type": "code",
   "execution_count": 2,
   "id": "c7c643d8",
   "metadata": {},
   "outputs": [],
   "source": [
    "import pandas as pd\n",
    "\n",
    "# read file\n",
    "stockdata = pd.read_csv('clustering_data.csv', index_col=0)"
   ]
  },
  {
   "cell_type": "code",
   "execution_count": 3,
   "id": "decf2446",
   "metadata": {},
   "outputs": [],
   "source": [
    "#print(stockdata)"
   ]
  },
  {
   "cell_type": "code",
   "execution_count": 12,
   "id": "6d121e34",
   "metadata": {},
   "outputs": [],
   "source": [
    "sdKmeans = KMeans(init='random', n_clusters=8).fit(stockdata.values)\n",
    "SSE1 = sdKmeans.inertia_"
   ]
  },
  {
   "cell_type": "markdown",
   "id": "c98e7a2b",
   "metadata": {},
   "source": [
    "### Answer to Q1: Because of the random selection of initial centroids, the SSE result changes everytime when the function runs."
   ]
  },
  {
   "cell_type": "code",
   "execution_count": 13,
   "id": "825724ea",
   "metadata": {},
   "outputs": [
    {
     "name": "stdout",
     "output_type": "stream",
     "text": [
      "The SSE for the clustering of default parameters is 1697.332910350924.\n"
     ]
    }
   ],
   "source": [
    "print('The SSE for the clustering of default parameters is {}.'.format(SSE1))"
   ]
  },
  {
   "cell_type": "markdown",
   "id": "38444f5c",
   "metadata": {},
   "source": [
    "### Q2:You should then try to decrease the SSE as much as possible (while keep- ing k = 8) by changing some of the parameters accordingly. To this end, select two parameters that you think should impact the results the most. For each parameter explain : \n",
    "a) how you expect that changing that parameter would affect the results (increasing its value means better or worse results?)\n",
    "b) whether increasing or decreasing the value of the parameter should always improve the results or not necessarily."
   ]
  },
  {
   "cell_type": "code",
   "execution_count": 20,
   "id": "65355200",
   "metadata": {},
   "outputs": [],
   "source": [
    "# adopt a loop to test the improvement possibility of changing init parameter to k-means++\n",
    "df = 0\n",
    "km1 = 0\n",
    "\n",
    "for i in range(200):\n",
    "    # calculate the default set again\n",
    "    sdKmeans_df = KMeans(init='random', n_clusters=8).fit(stockdata.values)\n",
    "    SSE_df = sdKmeans_df.inertia_\n",
    "\n",
    "    # try max_iter\n",
    "    sdKmeans2 = KMeans(init='k-means++', n_clusters=8).fit(stockdata.values)\n",
    "    SSE2 = sdKmeans2.inertia_\n",
    "    \n",
    "    if SSE_df <= SSE2:\n",
    "        df += 1\n",
    "    else:\n",
    "        km1 += 1"
   ]
  },
  {
   "cell_type": "code",
   "execution_count": 22,
   "id": "cce521d7",
   "metadata": {},
   "outputs": [
    {
     "name": "stdout",
     "output_type": "stream",
     "text": [
      "Default set wins 80 times.\n",
      "K-means++ set wins 120 times.\n"
     ]
    }
   ],
   "source": [
    "# in 200 runs, lets see the best clustering solution distributions among\n",
    "# default parameter and k-means++\n",
    "print('Default set wins {} times.'.format(df))\n",
    "print('K-means++ set wins {} times.'.format(km1))"
   ]
  },
  {
   "cell_type": "code",
   "execution_count": 30,
   "id": "a710942e",
   "metadata": {},
   "outputs": [],
   "source": [
    "# adopt a loop to test the improvement possibility of changing max_iter parameter\n",
    "dfnew = 0\n",
    "ni1 = 0\n",
    "ni2 = 0\n",
    "\n",
    "for i in range(100):\n",
    "    # calculate the default set again\n",
    "    sdKmeans_df2 = KMeans(init='random', n_clusters=8).fit(stockdata.values)\n",
    "    SSE_df2 = sdKmeans_df2.inertia_\n",
    "\n",
    "    # try n_init\n",
    "    sdKmeans4 = KMeans(init='random', n_clusters=8, n_init = 100).fit(stockdata.values)\n",
    "    SSE4 = sdKmeans4.inertia_\n",
    "    sdKmeans5 = KMeans(init='random', n_clusters=8, n_init = 1000).fit(stockdata.values)\n",
    "    SSE5 = sdKmeans5.inertia_\n",
    "\n",
    "    if SSE_df2 <= SSE4 and SSE_df2 <= SSE5:\n",
    "        dfnew += 1\n",
    "    elif SSE4 <= SSE_df2 and SSE4 <= SSE5:\n",
    "        ni1 += 1\n",
    "    elif SSE5 <= SSE_df2 and SSE5 <= SSE4:\n",
    "        ni2 += 1"
   ]
  },
  {
   "cell_type": "code",
   "execution_count": 31,
   "id": "d5e31086",
   "metadata": {},
   "outputs": [
    {
     "name": "stdout",
     "output_type": "stream",
     "text": [
      "Default set wins 0 times.\n",
      "Lower n_init set wins 10 times.\n",
      "Higher n_init set wins 90 times.\n"
     ]
    }
   ],
   "source": [
    "# in 100 runs, lets see the best clustering solution distributions among\n",
    "# default parameter\n",
    "# n_init = 100\n",
    "# n_init = 1000\n",
    "print('Default set wins {} times.'.format(dfnew))\n",
    "print('Lower n_init set wins {} times.'.format(ni1))\n",
    "print('Higher n_init set wins {} times.'.format(ni2))"
   ]
  },
  {
   "cell_type": "markdown",
   "id": "9bc46479",
   "metadata": {},
   "source": [
    "### Answer to Q2: "
   ]
  },
  {
   "cell_type": "markdown",
   "id": "d7098e92",
   "metadata": {},
   "source": [
    "I chose two parameters 'init' and 'n_init', which I think can improve the performance of clustering. \n",
    "\n",
    "For the parameter 'init', I chose 'k-means++'. It refers to the slection of initial cluster centroids using sampling based on an empirical probability distribution of the points' contribution to the overall inertia. By choosing 'k-means++' will end up with better results in most times. However, this parameter is not necessarily improving the clustering performance as the random selection of initial centroids may be better than applying k-means++ algorithm sometimes.\n",
    "\n",
    "For the parameter 'n-init', it refers the number pf times the k-means algorithm is run with different centroid seeds. As can be seen from the loop results, the larger n_init is, the higher the likelihood of obtaining better clustering results. But increasing n_init means that more calculations have to be performed, which increases the cost of the algorithm and reduces its efficiency."
   ]
  },
  {
   "cell_type": "code",
   "execution_count": null,
   "id": "0e61ac03",
   "metadata": {},
   "outputs": [],
   "source": []
  },
  {
   "cell_type": "markdown",
   "id": "4bde69c0",
   "metadata": {},
   "source": [
    "### Q3:Then look at the clustering you obtained and try to label each cluster with a topic. For example: cluster of technology stocks, oil stocks, etc. Don’t expect your clustering to be perfect. In particular, you might have different kinds of stocks in a given cluster, while you might not be able to label all clusters. We expect that you should be able to label at least three clusters with a topic. It is fine to describe a cluster as a technology cluster if most of the stocks deal with technology, for example. Explain your answers."
   ]
  },
  {
   "cell_type": "code",
   "execution_count": 32,
   "id": "0f269b4e",
   "metadata": {},
   "outputs": [
    {
     "data": {
      "text/plain": [
       "(1674.5719565744641,\n",
       " 1632.7486093868524,\n",
       " 1713.7987521220912,\n",
       " 1669.7457906512714,\n",
       " 1511.530573608501)"
      ]
     },
     "execution_count": 32,
     "metadata": {},
     "output_type": "execute_result"
    }
   ],
   "source": [
    "# choose a better clustering\n",
    "\n",
    "SSE_df,SSE2,SSE_df2,SSE4,SSE5"
   ]
  },
  {
   "cell_type": "code",
   "execution_count": 33,
   "id": "fa465b94",
   "metadata": {},
   "outputs": [
    {
     "data": {
      "text/html": [
       "<div>\n",
       "<style scoped>\n",
       "    .dataframe tbody tr th:only-of-type {\n",
       "        vertical-align: middle;\n",
       "    }\n",
       "\n",
       "    .dataframe tbody tr th {\n",
       "        vertical-align: top;\n",
       "    }\n",
       "\n",
       "    .dataframe thead th {\n",
       "        text-align: right;\n",
       "    }\n",
       "</style>\n",
       "<table border=\"1\" class=\"dataframe\">\n",
       "  <thead>\n",
       "    <tr style=\"text-align: right;\">\n",
       "      <th></th>\n",
       "      <th>StockName</th>\n",
       "    </tr>\n",
       "  </thead>\n",
       "  <tbody>\n",
       "    <tr>\n",
       "      <th>0</th>\n",
       "      <td>Chevron</td>\n",
       "    </tr>\n",
       "    <tr>\n",
       "      <th>0</th>\n",
       "      <td>Pfizer</td>\n",
       "    </tr>\n",
       "    <tr>\n",
       "      <th>0</th>\n",
       "      <td>ExxonMobil</td>\n",
       "    </tr>\n",
       "    <tr>\n",
       "      <th>1</th>\n",
       "      <td>Verizon</td>\n",
       "    </tr>\n",
       "    <tr>\n",
       "      <th>1</th>\n",
       "      <td>Merck</td>\n",
       "    </tr>\n",
       "    <tr>\n",
       "      <th>1</th>\n",
       "      <td>Procter &amp; Gamble</td>\n",
       "    </tr>\n",
       "    <tr>\n",
       "      <th>1</th>\n",
       "      <td>McDonalds</td>\n",
       "    </tr>\n",
       "    <tr>\n",
       "      <th>1</th>\n",
       "      <td>AT&amp;T</td>\n",
       "    </tr>\n",
       "    <tr>\n",
       "      <th>1</th>\n",
       "      <td>Kraft</td>\n",
       "    </tr>\n",
       "    <tr>\n",
       "      <th>1</th>\n",
       "      <td>Coca-Cola</td>\n",
       "    </tr>\n",
       "    <tr>\n",
       "      <th>2</th>\n",
       "      <td>Cisco Systems</td>\n",
       "    </tr>\n",
       "    <tr>\n",
       "      <th>3</th>\n",
       "      <td>Hewlett-Packard</td>\n",
       "    </tr>\n",
       "    <tr>\n",
       "      <th>4</th>\n",
       "      <td>Bank of America</td>\n",
       "    </tr>\n",
       "    <tr>\n",
       "      <th>5</th>\n",
       "      <td>Caterpillar</td>\n",
       "    </tr>\n",
       "    <tr>\n",
       "      <th>5</th>\n",
       "      <td>DuPont</td>\n",
       "    </tr>\n",
       "    <tr>\n",
       "      <th>5</th>\n",
       "      <td>Alcoa</td>\n",
       "    </tr>\n",
       "    <tr>\n",
       "      <th>6</th>\n",
       "      <td>Travelers</td>\n",
       "    </tr>\n",
       "    <tr>\n",
       "      <th>6</th>\n",
       "      <td>United Technologies</td>\n",
       "    </tr>\n",
       "    <tr>\n",
       "      <th>6</th>\n",
       "      <td>Johnson &amp; Johnson</td>\n",
       "    </tr>\n",
       "    <tr>\n",
       "      <th>6</th>\n",
       "      <td>Wal-Mart</td>\n",
       "    </tr>\n",
       "    <tr>\n",
       "      <th>6</th>\n",
       "      <td>Intel</td>\n",
       "    </tr>\n",
       "    <tr>\n",
       "      <th>6</th>\n",
       "      <td>3M</td>\n",
       "    </tr>\n",
       "    <tr>\n",
       "      <th>6</th>\n",
       "      <td>The Home Depot</td>\n",
       "    </tr>\n",
       "    <tr>\n",
       "      <th>6</th>\n",
       "      <td>IBM</td>\n",
       "    </tr>\n",
       "    <tr>\n",
       "      <th>6</th>\n",
       "      <td>General Electric</td>\n",
       "    </tr>\n",
       "    <tr>\n",
       "      <th>7</th>\n",
       "      <td>Walt Disney</td>\n",
       "    </tr>\n",
       "    <tr>\n",
       "      <th>7</th>\n",
       "      <td>JPMorgan Chase</td>\n",
       "    </tr>\n",
       "    <tr>\n",
       "      <th>7</th>\n",
       "      <td>Microsoft</td>\n",
       "    </tr>\n",
       "    <tr>\n",
       "      <th>7</th>\n",
       "      <td>Boeing</td>\n",
       "    </tr>\n",
       "    <tr>\n",
       "      <th>7</th>\n",
       "      <td>American Express</td>\n",
       "    </tr>\n",
       "  </tbody>\n",
       "</table>\n",
       "</div>"
      ],
      "text/plain": [
       "             StockName\n",
       "0              Chevron\n",
       "0               Pfizer\n",
       "0           ExxonMobil\n",
       "1              Verizon\n",
       "1                Merck\n",
       "1     Procter & Gamble\n",
       "1            McDonalds\n",
       "1                 AT&T\n",
       "1                Kraft\n",
       "1            Coca-Cola\n",
       "2        Cisco Systems\n",
       "3      Hewlett-Packard\n",
       "4      Bank of America\n",
       "5          Caterpillar\n",
       "5               DuPont\n",
       "5                Alcoa\n",
       "6            Travelers\n",
       "6  United Technologies\n",
       "6    Johnson & Johnson\n",
       "6             Wal-Mart\n",
       "6                Intel\n",
       "6                   3M\n",
       "6       The Home Depot\n",
       "6                  IBM\n",
       "6     General Electric\n",
       "7          Walt Disney\n",
       "7       JPMorgan Chase\n",
       "7            Microsoft\n",
       "7               Boeing\n",
       "7     American Express"
      ]
     },
     "execution_count": 33,
     "metadata": {},
     "output_type": "execute_result"
    }
   ],
   "source": [
    "# SSE5 is the lowest, therefore\n",
    "pd.DataFrame(stockdata.index, index=sdKmeans5.labels_).sort_index()"
   ]
  },
  {
   "cell_type": "markdown",
   "id": "0a51ecdd",
   "metadata": {},
   "source": [
    "### Answer to Q3: According to the clustering above, I can label the Cluster 0，1，5，6:"
   ]
  },
  {
   "cell_type": "markdown",
   "id": "998f2023",
   "metadata": {},
   "source": [
    "Cluster0: Energy stock"
   ]
  },
  {
   "cell_type": "markdown",
   "id": "138c24cd",
   "metadata": {},
   "source": [
    "Cluster1: Consumer Goods stock"
   ]
  },
  {
   "cell_type": "markdown",
   "id": "c57baa1e",
   "metadata": {},
   "source": [
    "Cluster5: Manufacturing and Industrial stock"
   ]
  },
  {
   "cell_type": "markdown",
   "id": "15ef339c",
   "metadata": {},
   "source": [
    "Cluster6: Financial and Technology stock"
   ]
  },
  {
   "cell_type": "code",
   "execution_count": null,
   "id": "c26032f8",
   "metadata": {},
   "outputs": [],
   "source": []
  }
 ],
 "metadata": {
  "kernelspec": {
   "display_name": "Python 3 (ipykernel)",
   "language": "python",
   "name": "python3"
  },
  "language_info": {
   "codemirror_mode": {
    "name": "ipython",
    "version": 3
   },
   "file_extension": ".py",
   "mimetype": "text/x-python",
   "name": "python",
   "nbconvert_exporter": "python",
   "pygments_lexer": "ipython3",
   "version": "3.9.12"
  }
 },
 "nbformat": 4,
 "nbformat_minor": 5
}
