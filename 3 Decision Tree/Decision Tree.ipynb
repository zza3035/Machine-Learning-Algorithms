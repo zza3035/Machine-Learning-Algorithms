{
 "cells": [
  {
   "cell_type": "code",
   "execution_count": 3,
   "id": "13be0290",
   "metadata": {
    "scrolled": true
   },
   "outputs": [
    {
     "name": "stdout",
     "output_type": "stream",
     "text": [
      "Requirement already satisfied: graphviz in /Users/zhuanzhang/opt/anaconda3/lib/python3.9/site-packages (0.20.3)\r\n"
     ]
    }
   ],
   "source": [
    "import sys\n",
    "!{sys.executable} -m pip install graphviz"
   ]
  },
  {
   "cell_type": "markdown",
   "id": "dc02bc92",
   "metadata": {},
   "source": [
    "#Graphviz是一个开源的绘图工具，可以根据指定的图形描述语言生成各种类型的图形，如流程图、组织结构图等。"
   ]
  },
  {
   "cell_type": "code",
   "execution_count": 4,
   "id": "8738d3b0",
   "metadata": {
    "scrolled": true
   },
   "outputs": [
    {
     "name": "stdout",
     "output_type": "stream",
     "text": [
      "Requirement already satisfied: pydot in /Users/zhuanzhang/opt/anaconda3/lib/python3.9/site-packages (2.0.0)\r\n",
      "Requirement already satisfied: pyparsing>=3 in /Users/zhuanzhang/opt/anaconda3/lib/python3.9/site-packages (from pydot) (3.1.2)\r\n"
     ]
    }
   ],
   "source": [
    "!{sys.executable} -m pip install pydot"
   ]
  },
  {
   "cell_type": "markdown",
   "id": "6f43e771",
   "metadata": {},
   "source": [
    "#Pydot允许开发人员使用Python代码创建和编辑图形描述，然后使用Graphviz将其转换为实际的图形。它提供了一组API，用于创建节点、边和子图，并支持各种图形布局算法，例如层次布局、圆形布局等。\n",
    "\n",
    "#使用Pydot，开发人员可以在Python中自动化生成和操作图形，从而在数据可视化、网络拓扑分析、组织结构图等领域中发挥重要作用。它也是许多机器学习和数据科学库的重要组成部分，用于可视化模型结构和流程。"
   ]
  },
  {
   "cell_type": "code",
   "execution_count": 5,
   "id": "d4563eee",
   "metadata": {},
   "outputs": [],
   "source": [
    "\n",
    "from sklearn import tree\n",
    "from sklearn.datasets import load_iris\n",
    "import pydot\n",
    "import numpy as np\n",
    "import random\n",
    "from numpy.random import RandomState\n",
    "from scipy import stats\n",
    "import math\n",
    "import graphviz\n",
    "import pandas as pd"
   ]
  },
  {
   "cell_type": "code",
   "execution_count": 6,
   "id": "dacd8ce3",
   "metadata": {},
   "outputs": [],
   "source": [
    "#read files\n",
    "SDSS_data = pd.read_csv(r'skysurvey/training_data.csv',\n",
    "                 names = [ 'ra', 'dec', 'u', 'g', 'r', 'i', 'z', 'run', 'rerun', 'camcol', 'field', 'specobjid', \n",
    "                          'redshift', 'plate', 'mjd', 'fiberid'])\n",
    "\n",
    "SDSS_class = pd.read_csv(r'skysurvey/training_class.csv',\n",
    "                 names = ['target'])"
   ]
  },
  {
   "cell_type": "code",
   "execution_count": 7,
   "id": "aa07f9c4",
   "metadata": {},
   "outputs": [],
   "source": [
    "#print(SDSS_class)"
   ]
  },
  {
   "cell_type": "markdown",
   "id": "dd27f2ec",
   "metadata": {},
   "source": [
    "#### Task 1: Given the dataset we provided to you, build a decision tree using the parameter min sample leaf = 0.01. Such a parameter value specifies that the training data per leaf is 1% of all training data which allows us to get statistically significant results. Set also random state = RandomState(2018), which makes the algorithm deterministic. All other parameters should have their default values. Include the decision tree you built in your submission (stored in a pdf file)."
   ]
  },
  {
   "cell_type": "code",
   "execution_count": 8,
   "id": "58cf6cf5",
   "metadata": {},
   "outputs": [],
   "source": [
    "#build decision tree with the given parameter\n",
    "clf = tree.DecisionTreeClassifier(criterion='gini', min_samples_leaf=0.01, random_state = RandomState(2018))\n",
    "clf = clf.fit(SDSS_data, SDSS_class)\n",
    "dot_data = tree.export_graphviz(clf, out_file=None, \n",
    "                         feature_names=SDSS_data.columns,  \n",
    "                         class_names=['star', 'galaxy', 'quasar'],  \n",
    "                         filled=True, rounded=True,  \n",
    "                         special_characters=True)  \n",
    "\n",
    "graphv = graphviz.Source(dot_data) \n",
    "#print(graphv)"
   ]
  },
  {
   "cell_type": "code",
   "execution_count": 9,
   "id": "db961e62",
   "metadata": {},
   "outputs": [
    {
     "name": "stdout",
     "output_type": "stream",
     "text": [
      "Requirement already satisfied: pyparsing in /Users/zhuanzhang/opt/anaconda3/lib/python3.9/site-packages (3.1.2)\r\n"
     ]
    }
   ],
   "source": [
    "#plot the decision tree to a pdf\n",
    "!pip install --upgrade pyparsing\n",
    "from six import StringIO\n",
    "import pydot\n",
    "\n",
    "dot_data = StringIO()\n",
    "tree.export_graphviz(clf, out_file=dot_data, feature_names=SDSS_data.columns,  \n",
    "                         class_names=['star', 'galaxy', 'quasar'],  \n",
    "                         filled=True, rounded=True,  \n",
    "                         special_characters=True  \n",
    "                    )"
   ]
  },
  {
   "cell_type": "code",
   "execution_count": 10,
   "id": "def3b644",
   "metadata": {},
   "outputs": [
    {
     "name": "stdout",
     "output_type": "stream",
     "text": [
      "Requirement already satisfied: pydotplus in /Users/zhuanzhang/opt/anaconda3/lib/python3.9/site-packages (2.0.2)\r\n",
      "Requirement already satisfied: pyparsing>=2.0.1 in /Users/zhuanzhang/opt/anaconda3/lib/python3.9/site-packages (from pydotplus) (3.1.2)\r\n"
     ]
    }
   ],
   "source": [
    "!{sys.executable} -m pip install pydotplus\n",
    "import pydotplus"
   ]
  },
  {
   "cell_type": "code",
   "execution_count": 11,
   "id": "2a492f5a",
   "metadata": {},
   "outputs": [],
   "source": [
    "import os\n",
    "os.environ[\"PATH\"] += os.pathsep + '/usr/local/bin'"
   ]
  },
  {
   "cell_type": "code",
   "execution_count": 12,
   "id": "74d22315",
   "metadata": {},
   "outputs": [],
   "source": [
    "from IPython.display import Image\n",
    "from pydotplus import graph_from_dot_data\n",
    "\n",
    "graph = graph_from_dot_data(dot_data.getvalue())\n",
    "Image(graph.create_png())\n",
    "\n",
    "with open(\"Sky Survey.pdf\", \"wb\") as pdf:\n",
    "    pdf.write(graph.create_pdf())"
   ]
  },
  {
   "cell_type": "markdown",
   "id": "fc2d615f",
   "metadata": {},
   "source": [
    "#### Task 2: compute the generalization error of the decision tree you built. To this end, you might use the array clf.tree.children left where clf.tree.children left[i] = −1 if i is a leaf while clf is the tree you built with DecisionTreeClassifier in sci-kit learn."
   ]
  },
  {
   "cell_type": "code",
   "execution_count": 13,
   "id": "bca23c9c",
   "metadata": {},
   "outputs": [
    {
     "name": "stdout",
     "output_type": "stream",
     "text": [
      "28\n"
     ]
    }
   ],
   "source": [
    "leaves_num = (clf.tree_.children_left == -1).sum()\n",
    "print(leaves_num)"
   ]
  },
  {
   "cell_type": "code",
   "execution_count": 14,
   "id": "6c53cadc",
   "metadata": {},
   "outputs": [
    {
     "name": "stdout",
     "output_type": "stream",
     "text": [
      "113\n"
     ]
    }
   ],
   "source": [
    "error_train = (SDSS_class['target'] != clf.predict(SDSS_data)).sum()\n",
    "print(error_train)"
   ]
  },
  {
   "cell_type": "code",
   "execution_count": 15,
   "id": "09fc92ce",
   "metadata": {},
   "outputs": [
    {
     "name": "stdout",
     "output_type": "stream",
     "text": [
      "The generalization error of the decision tree is 127.0\n"
     ]
    }
   ],
   "source": [
    "error_general = error_train + 0.5*leaves_num\n",
    "print('The generalization error of the decision tree is {}'.format(error_general))"
   ]
  },
  {
   "cell_type": "markdown",
   "id": "4c22b594",
   "metadata": {},
   "source": [
    "#### Task3: the decision tree you built in the first part of the question might not be ideal for our task. You should try to change the input parameters of DecisionTreeClassifier, so as to build a decision tree with minimum gen- eralization error. \n",
    "Here we consider the parameter max depth. Determine the best value for max depth so as to minimize the generalization error. You should maintain min sample leaf = 0.01 so as to make sure to ob- tain results that are statistically significant. Do not change random state either. Specify in the answer to this question, which values for max depth you considered and how you expect that a given value affects the generalization error. It should be clear from your answer that you understood what is the role of max depth and how it might affect the generalization error. Include the decision tree you built in the report."
   ]
  },
  {
   "cell_type": "code",
   "execution_count": 16,
   "id": "d757df2d",
   "metadata": {},
   "outputs": [
    {
     "name": "stdout",
     "output_type": "stream",
     "text": [
      "The generalization error of the decision tree is 115.0\n"
     ]
    }
   ],
   "source": [
    "#test difference max_depth\n",
    "clf1 = tree.DecisionTreeClassifier(criterion='gini',max_depth = 2, min_samples_leaf=0.01, random_state = RandomState(2018))\n",
    "clf1 = clf1.fit(SDSS_data, SDSS_class)\n",
    "leaves_num1 = (clf1.tree_.children_left == -1).sum()\n",
    "error_train1 = (SDSS_class['target'] != clf1.predict(SDSS_data)).sum()\n",
    "error_general1 = error_train1 + 0.5*leaves_num1\n",
    "print('The generalization error of the decision tree is {}'.format(error_general1))"
   ]
  },
  {
   "cell_type": "code",
   "execution_count": 17,
   "id": "0c9f7b9b",
   "metadata": {},
   "outputs": [
    {
     "name": "stdout",
     "output_type": "stream",
     "text": [
      "The generalization error of the decision tree is 126.5\n"
     ]
    }
   ],
   "source": [
    "clf2 = tree.DecisionTreeClassifier(criterion='gini',max_depth = 10, min_samples_leaf=0.01, random_state = RandomState(2018))\n",
    "clf2 = clf2.fit(SDSS_data, SDSS_class)\n",
    "leaves_num2 = (clf2.tree_.children_left == -1).sum()\n",
    "error_train2 = (SDSS_class['target'] != clf2.predict(SDSS_data)).sum()\n",
    "error_general2 = error_train2 + 0.5*leaves_num2\n",
    "print('The generalization error of the decision tree is {}'.format(error_general2))"
   ]
  },
  {
   "cell_type": "code",
   "execution_count": 18,
   "id": "59093560",
   "metadata": {},
   "outputs": [],
   "source": [
    "#define a function to test more max_depth\n",
    "def genError (max_depth):\n",
    "    clf2 = tree.DecisionTreeClassifier(criterion='gini',max_depth = max_depth, min_samples_leaf=0.01, random_state = RandomState(2018))\n",
    "    clf2 = clf2.fit(SDSS_data, SDSS_class)\n",
    "    leaves_num2 = (clf2.tree_.children_left == -1).sum()\n",
    "    error_train2 = (SDSS_class['target'] != clf2.predict(SDSS_data)).sum()\n",
    "    error_general2 = error_train2 + 0.5*leaves_num2\n",
    "    \n",
    "    print('The generalization error of the decision tree with max_depth {}, is {}'.format(max_depth, error_general2))\n",
    "    #return clf2, error_general2\n",
    "    "
   ]
  },
  {
   "cell_type": "code",
   "execution_count": 19,
   "id": "3c889a11",
   "metadata": {},
   "outputs": [
    {
     "name": "stdout",
     "output_type": "stream",
     "text": [
      "10\n"
     ]
    }
   ],
   "source": [
    "#what is the depth of the decision tree?\n",
    "depth = clf2.tree_.max_depth\n",
    "print(depth)"
   ]
  },
  {
   "cell_type": "code",
   "execution_count": 20,
   "id": "061e6648",
   "metadata": {
    "scrolled": true
   },
   "outputs": [
    {
     "name": "stdout",
     "output_type": "stream",
     "text": [
      "The generalization error of the decision tree with max_depth 1, is 878.0\n",
      "The generalization error of the decision tree with max_depth 2, is 115.0\n",
      "The generalization error of the decision tree with max_depth 5, is 121.5\n",
      "The generalization error of the decision tree with max_depth 10, is 126.5\n",
      "The generalization error of the decision tree with max_depth 11, is 127.0\n",
      "The generalization error of the decision tree with max_depth 20, is 127.0\n",
      "The generalization error of the decision tree with max_depth None, is 127.0\n"
     ]
    }
   ],
   "source": [
    "for i in [1,2,5,10,11,20,None]:\n",
    "    genError(i)"
   ]
  },
  {
   "cell_type": "code",
   "execution_count": 21,
   "id": "ce7c0d43",
   "metadata": {},
   "outputs": [
    {
     "name": "stdout",
     "output_type": "stream",
     "text": [
      "The generalization error of the decision tree with max_depth 2, is 115.0\n",
      "The generalization error of the decision tree with max_depth 3, is 117.0\n",
      "The generalization error of the decision tree with max_depth 4, is 119.5\n",
      "The generalization error of the decision tree with max_depth 5, is 121.5\n"
     ]
    }
   ],
   "source": [
    "for i in [2,3,4,5]:\n",
    "    genError(i)"
   ]
  },
  {
   "cell_type": "markdown",
   "id": "5b412b18",
   "metadata": {},
   "source": [
    "#### Answer:\n",
    "\n",
    "The `max_depth` parameter in `DecisionTreeClassifier` controls the maximum depth of the decision tree. It limits the complexity and generalization ability of the model, preventing overfitting (high values) or underfitting (low values). \n",
    "\n",
    "The generalization error is affected by a combination of two factors: the training error and the number of leaf nodes.\n",
    "\n",
    "In general, when the depth increasing, the number of training errors should goes down because there are more attributes splitting branches to fit the date. On the contrary, The number of leaf nodes should increase.\n"
   ]
  },
  {
   "cell_type": "markdown",
   "id": "02433302",
   "metadata": {},
   "source": [
    "I first queried the depth of the decision tree. Found the current depth to be 10.\n",
    "\n",
    "So I entered 1, 2, 5, 10, 11, 20 and None as max_depth parameter.\n",
    "According to my judgment, when max_depth = 1, the decision tree should only have two layers, a root and a layer of leaf nodes, and the training error at this time should be the largest. The output matches my guess.\n",
    "\n",
    "At the same time, I suppose that when the value of max_depth is larger than the depth of the decision tree itself, the value of gen error will remain unchanged. Because the decision tree will not continue to split the nodes that don't meet the splitting requirements. The gen error remains the same when we change the max_depth among 11, 20 and None.\n",
    "\n",
    "With the first test, I found that the gen error is smaller than several others when the max_depth is 2. So I continued to test the gen error for max_depth of 2, 3, 4, and 5. Then found that 2 is still the smallest. This may mean that one half of the number of extra leaf nodes generated when depth increasing exceeds the number of reduced training errors."
   ]
  },
  {
   "cell_type": "markdown",
   "id": "cdd0fe75",
   "metadata": {},
   "source": [
    "#### Task4: compare the decision trees you built in point 1 and the best one you obtained in point 3. Which one would you recommend to use to classify sky objects? Explain your answer."
   ]
  },
  {
   "cell_type": "code",
   "execution_count": 22,
   "id": "05aa6d06",
   "metadata": {},
   "outputs": [],
   "source": [
    "#plot the optimal tree clf1 with max_depth=2\n",
    "\n",
    "\n",
    "dot_data = StringIO()\n",
    "tree.export_graphviz(clf1, out_file=dot_data, feature_names=SDSS_data.columns,  \n",
    "                         class_names=['star', 'galaxy', 'quasar'],  \n",
    "                         filled=True, rounded=True,  \n",
    "                         special_characters=True  \n",
    "                    )\n",
    "\n",
    "graph = graph_from_dot_data(dot_data.getvalue())\n",
    "Image(graph.create_png())\n",
    "\n",
    "with open(\"Sky Survey depth2.pdf\", \"wb\") as pdf:\n",
    "    pdf.write(graph.create_pdf())"
   ]
  },
  {
   "cell_type": "markdown",
   "id": "05d190cf",
   "metadata": {},
   "source": [
    "#### Answer:\n",
    "\n",
    "I would recommend the decision tree 'clf1' with max_depth = 2. Because the generalization error of 'clf1' is 115 and that of the decision tree 'clf' in point1 is 127. The new tree has smaller generalization error which means that we should post-pruning the original decision tree."
   ]
  },
  {
   "cell_type": "markdown",
   "id": "dd4124c1",
   "metadata": {},
   "source": [
    "#### Task5: Consider the decision tree you considered to be best in the pre- vious point. Predict the class value of an object of your choice. Which feature is most relevant when classifying sky objects?"
   ]
  },
  {
   "cell_type": "code",
   "execution_count": 23,
   "id": "7e237187",
   "metadata": {},
   "outputs": [
    {
     "name": "stdout",
     "output_type": "stream",
     "text": [
      "The 1st instance of the training sample {'ra': 183.531325694133, 'dec': 0.0896930301317096, 'u': 19.47406, 'g': 17.0424, 'r': 15.94699, 'i': 15.50342, 'z': 15.22531, 'run': 752.0, 'rerun': 301.0, 'camcol': 4.0, 'field': 267.0, 'specobjid': 3.722360139651588e+18, 'redshift': -8.955967e-06, 'plate': 3306.0, 'mjd': 54922.0, 'fiberid': 491.0} is predicted to be star.\n"
     ]
    },
    {
     "name": "stderr",
     "output_type": "stream",
     "text": [
      "/Users/zhuanzhang/opt/anaconda3/lib/python3.9/site-packages/sklearn/base.py:493: UserWarning: X does not have valid feature names, but DecisionTreeClassifier was fitted with feature names\n",
      "  warnings.warn(\n"
     ]
    }
   ],
   "source": [
    "print(\"The 1st instance of the training sample {} is predicted to be {}.\".format(\n",
    "    SDSS_data.loc[0].to_dict(), ['star', 'galaxy', 'quasar'][clf1.predict([SDSS_data.loc[0]])[0]]))"
   ]
  },
  {
   "cell_type": "code",
   "execution_count": 24,
   "id": "eff61367",
   "metadata": {},
   "outputs": [
    {
     "name": "stdout",
     "output_type": "stream",
     "text": [
      "redshift is considered to be the most relevant.\n"
     ]
    }
   ],
   "source": [
    "print(SDSS_data.columns[clf1.feature_importances_.argmax()], \"is considered to be the most relevant.\")"
   ]
  },
  {
   "cell_type": "markdown",
   "id": "87492062",
   "metadata": {},
   "source": [
    "`feature_importances_.argmax()` is used to identify the most important feature by finding the index of the feature with the highest importance score in the `DecisionTreeClassifier` model.\n",
    "\n",
    "redshift is considered to be the most relevant attributes in the decision tree.\n",
    "\n",
    "When redshift <= 0.002 ➡️ 'star'\n",
    "\n",
    "When 0.002< redshift <= 0.218 ➡️ 'galaxy'\n",
    "\n",
    "When redshift > 0.218 ➡️ 'quasar'"
   ]
  },
  {
   "cell_type": "markdown",
   "id": "abfaf306",
   "metadata": {},
   "source": [
    "#### Task6: do you think that the best decision tree you built could be pruned so as to improve the generalization error? Explain your answer (you are supposed to answer this question by only looking at the tree, no implementation is required)."
   ]
  },
  {
   "cell_type": "markdown",
   "id": "acfb0f5d",
   "metadata": {},
   "source": [
    "#### Answer:\n",
    "By looking at the pdf 'Sky Survey depth2', I find the leaf nodes' classes of the left root are both 'star'. Which means that the training error did not be decreased by the splitting, while the number of leaves increased 1. This part can be pruned."
   ]
  },
  {
   "cell_type": "markdown",
   "id": "2dd3489c",
   "metadata": {},
   "source": [
    "#### Task7: the library we recommend (sci-kit learn) does not support post- pruning, yet. However this could be implemented by using the variables ofthetree objectcomputedbytheDecisionTreeClassifierinsci-kitlearn. \n",
    "See 1 to see some examples. In particular, clf.tree .children left[i] spec- ifies the index of the left children of i, clf.tree .children right[i] specifies the index of the right children of i, while clf.tree .value[i] specifies the class distribution of i. Implement a post-pruning strategy (among the ones we considered in our course) and run it on the best decision tree so far. Does this improve the generalization error? In case you cannot modify your instance of the DecisionTreeClassifier, you can use another data structure to store the pruned tree.\n"
   ]
  },
  {
   "cell_type": "code",
   "execution_count": 25,
   "id": "6b9dbf7d",
   "metadata": {},
   "outputs": [],
   "source": [
    "#collect the training errors, leaf node numbers and depth of the tree\n",
    "def trainError (index, children_left, children_right, values):\n",
    "    if children_left[index] == -1:\n",
    "        return values[index].sum() - values[index].max()\n",
    "    return trainError(children_left[index], children_left, children_right, values) + trainError(children_right[index], children_left, children_right, values)\n",
    "\n",
    "def leafNum (index, children_left, children_right):\n",
    "    if children_left[index] == -1:\n",
    "        return 1\n",
    "    return leafNum(children_left[index], children_left, children_right) + leafNum(children_right[index], children_left, children_right)\n",
    "\n",
    "def search(index, children_left, children_right):\n",
    "    if children_left[index] == -1:\n",
    "        return 0\n",
    "    return max (search(children_left[index], children_left, children_right),\n",
    "               search(children_right[index], children_left, children_right)) + 1"
   ]
  },
  {
   "cell_type": "code",
   "execution_count": 26,
   "id": "c7e9830c",
   "metadata": {},
   "outputs": [
    {
     "name": "stdout",
     "output_type": "stream",
     "text": [
      "{2: [0], 1: [1, 4], 0: [2, 3, 5, 6]}\n"
     ]
    }
   ],
   "source": [
    "#get the index of each layer in the decision tree\n",
    "nodes_num = len(clf1.tree_.value)\n",
    "subtree_left = list(clf1.tree_.children_left)\n",
    "subtree_right = list(clf1.tree_.children_right)\n",
    "#subtree_left\n",
    "\n",
    "tree_pruned = {}\n",
    "\n",
    "for i in range(nodes_num):\n",
    "    layer = search(i, subtree_left, subtree_right)\n",
    "    if layer not in tree_pruned:\n",
    "        tree_pruned[layer] = []\n",
    "    tree_pruned[layer].append(i)\n",
    "    \n",
    "print(tree_pruned)"
   ]
  },
  {
   "cell_type": "code",
   "execution_count": 27,
   "id": "af734f0d",
   "metadata": {},
   "outputs": [
    {
     "name": "stdout",
     "output_type": "stream",
     "text": [
      "Node 1 is pruned. Generalization error has gone down by 0.5064890741103043\n"
     ]
    }
   ],
   "source": [
    "#post pruning if generalization error can decrease\n",
    "\n",
    "tree_depth = max(tree_pruned.keys())\n",
    "\n",
    "for layer in range (1, tree_depth):\n",
    "    for node in tree_pruned[layer]:\n",
    "        increase_gen_error = trainError(node, subtree_left, subtree_right, clf1.tree_.value) - (\n",
    "        clf1.tree_.value[node].sum() - clf1.tree_.value[node].max()) + 0.5*(leafNum(node, subtree_left, subtree_right)-1) \n",
    "        if increase_gen_error > 0.49:\n",
    "            print('Node {} is pruned. Generalization error has gone down by {}'.format(node, increase_gen_error))\n",
    "            subtree_left[node] = subtree_right[node] = -1\n"
   ]
  },
  {
   "cell_type": "code",
   "execution_count": null,
   "id": "572f9966",
   "metadata": {},
   "outputs": [],
   "source": []
  }
 ],
 "metadata": {
  "kernelspec": {
   "display_name": "Python 3 (ipykernel)",
   "language": "python",
   "name": "python3"
  },
  "language_info": {
   "codemirror_mode": {
    "name": "ipython",
    "version": 3
   },
   "file_extension": ".py",
   "mimetype": "text/x-python",
   "name": "python",
   "nbconvert_exporter": "python",
   "pygments_lexer": "ipython3",
   "version": "3.9.12"
  }
 },
 "nbformat": 4,
 "nbformat_minor": 5
}
